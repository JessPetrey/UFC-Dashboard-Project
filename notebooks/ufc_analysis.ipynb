{
 "cells": [
  {
   "cell_type": "markdown",
   "id": "71a7c08c-e4a7-4e32-9b29-e7c5d8759502",
   "metadata": {},
   "source": [
    "# Business Report : UFC Fighter Trends and Insights : Marketing / Promotional Focus\n",
    "In this project, I analyze UFC fight data to gain insights into fighter performance, trends in fighter metrics, and fight outcomes by weight class. "
   ]
  },
  {
   "cell_type": "markdown",
   "id": "3349f566-de80-44e5-bca0-ddb62cb07378",
   "metadata": {},
   "source": [
    "## Key Business Questions : \n",
    "\n",
    "**Which fighters show consistent improvement over time?**\n",
    "  - This can identify fighters who could be future stars and worth heavily promoting.\n",
    "\n",
    "Which weight classes have the most competitive fights?**\n",
    "  - This can inform descisions on which weight classes to market as having exciting matchups.\n",
    "\n",
    "Are there any emerging trends in fighter metrics that could affect the evolution of the sport?**\n",
    "  - This would be useful for adapting promotional content or strategy.\n",
    "\n",
    "Which fight outcomes are most common, and how do they vary by weight class?\n",
    "  - Insight into outcome patterns can guide marketing narratives."
   ]
  },
  {
   "cell_type": "markdown",
   "id": "9dd69355-60db-4b5a-abe2-8bc0df5bc5e3",
   "metadata": {},
   "source": [
    "## Dataset downloaded from Kaggle: [UFC Complete Dataset 1996-2024](https://www.kaggle.com/datasets/maksbasher/ufc-complete-dataset-all-events-1996-2024/data)\n",
    "\n",
    "### This dataset contains the following:\n",
    "\n",
    "    • Fighter stats - The folder contains 2 files, one is .csv cleaned from duplicates and .txt as a source for the fighter stats dataset\n",
    "    \n",
    "    • Large set - The folder contains the biggest dataset yet (contains 7439 rows and 94 columns)\n",
    "    • Medium set - The folder contains the medium dataset for basic tasks (contains 7582 rows and 19 columns)\n",
    "    \n",
    "    • Small set - The folder contains the small dataset with data about completed and upcoming events with only 683 rows and 3 columns\n",
    "    \n",
    "    • Urls - The folder contains all the urls that were parced to get the data from the UFCstats website\n",
    "\n",
    "\n"
   ]
  },
  {
   "cell_type": "markdown",
   "id": "494f4351-10af-401d-831b-6606402ee2c8",
   "metadata": {},
   "source": [
    "## - Load and display the data"
   ]
  },
  {
   "cell_type": "markdown",
   "id": "a44d8323-dd9e-4136-acc2-90e381bceaf3",
   "metadata": {},
   "source": [
    "*In this step, we first import the package(s) needed to load the data and conduct initial exploratory analysis. In this case, we need the Python 'pandas' library, and give it the nickname 'pd'.*\n",
    "*Then we can read the csv files into dataframes using 'pd.read_csv(...)', and assign them meaningful variable names that we will use to access the data later.*"
   ]
  },
  {
   "cell_type": "code",
   "execution_count": 1,
   "id": "244c0d42-6622-41c4-8704-a190dee41987",
   "metadata": {},
   "outputs": [],
   "source": [
    "import pandas as pd\n",
    "# load each csv into it's own dataframe\n",
    "fighter_stats = pd.read_csv('../data/Fighter stats/fighter_stats.csv')\n",
    "\n",
    "large_set = pd.read_csv('../data/Large set/large_dataset.csv')\n",
    "\n",
    "medium_set = pd.read_csv('../data/Medium set/medium_dataset.csv')\n",
    "\n",
    "complete_events = pd.read_csv('../data/Small set/completed_events_small.csv')\n",
    "\n",
    "upcoming_events = pd.read_csv('../data/Small set/upcoming_events_small.csv')\n"
   ]
  },
  {
   "cell_type": "code",
   "execution_count": 2,
   "id": "a6dce8f4-6f77-414b-ad4b-057862678904",
   "metadata": {},
   "outputs": [
    {
     "name": "stdout",
     "output_type": "stream",
     "text": [
      "Fighter Stats: \n",
      "                name  wins  losses  height  weight   reach    stance   age  \\\n",
      "0      Amanda Ribas  12.0     5.0  160.02   56.70  167.64  Orthodox  30.0   \n",
      "1    Rose Namajunas  13.0     6.0  165.10   56.70  165.10  Orthodox  31.0   \n",
      "2     Karl Williams  10.0     1.0  190.50  106.59  200.66  Orthodox  34.0   \n",
      "3       Justin Tafa   7.0     4.0  182.88  119.75  187.96  Southpaw  30.0   \n",
      "4  Edmen Shahbazyan  13.0     4.0  187.96   83.91  190.50  Orthodox  26.0   \n",
      "\n",
      "   SLpM  sig_str_acc  SApM  str_def  td_avg  td_acc  td_def  sub_avg  \n",
      "0  4.63         0.40  3.40     0.61    2.07    0.51    0.85      0.7  \n",
      "1  3.69         0.41  3.51     0.63    1.38    0.47    0.59      0.5  \n",
      "2  2.87         0.52  1.70     0.60    4.75    0.50    1.00      0.2  \n",
      "3  4.09         0.54  5.02     0.47    0.00    0.00    0.50      0.0  \n",
      "4  3.60         0.52  4.09     0.45    2.24    0.38    0.63      0.6  \n",
      "\n",
      "\n",
      "\n",
      "Large Set: \n",
      "                              event_name          r_fighter        b_fighter  \\\n",
      "0  UFC Fight Night: Ribas vs. Namajunas       Amanda Ribas   Rose Namajunas   \n",
      "1  UFC Fight Night: Ribas vs. Namajunas      Karl Williams      Justin Tafa   \n",
      "2  UFC Fight Night: Ribas vs. Namajunas   Edmen Shahbazyan        AJ Dobson   \n",
      "3  UFC Fight Night: Ribas vs. Namajunas     Payton Talbott  Cameron Saaiman   \n",
      "4  UFC Fight Night: Ribas vs. Namajunas  Billy Quarantillo    Youssef Zalal   \n",
      "\n",
      "  winner       weight_class  is_title_bout gender                method  \\\n",
      "0   Blue  Women's Flyweight              0  Women  Decision - Unanimous   \n",
      "1    Red        Heavyweight              0    Men  Decision - Unanimous   \n",
      "2    Red       Middleweight              0    Men                KO/TKO   \n",
      "3    Red       Bantamweight              0    Men                KO/TKO   \n",
      "4   Blue      Featherweight              0    Men            Submission   \n",
      "\n",
      "   finish_round  total_rounds  ...  weight_diff reach_diff  SLpM_total_diff  \\\n",
      "0             5           5.0  ...         0.00       2.54             0.94   \n",
      "1             3           3.0  ...       -13.16      12.70            -1.22   \n",
      "2             1           3.0  ...         0.00      -2.54            -0.69   \n",
      "3             2           3.0  ...         0.00       7.62             2.73   \n",
      "4             2           3.0  ...         0.00      -5.08             4.48   \n",
      "\n",
      "   SApM_total_diff  sig_str_acc_total_diff  td_acc_total_diff  \\\n",
      "0            -0.11                   -0.01               0.04   \n",
      "1            -3.32                   -0.02               0.50   \n",
      "2            -1.22                    0.06              -0.37   \n",
      "3            -0.60                    0.08              -0.28   \n",
      "4             3.84                    0.07              -0.11   \n",
      "\n",
      "   str_def_total_diff  td_def_total_diff  sub_avg_diff  td_avg_diff  \n",
      "0               -0.02               0.26           0.2         0.69  \n",
      "1                0.13               0.50           0.2         4.75  \n",
      "2               -0.01              -0.02           0.3         0.57  \n",
      "3                0.00               0.43          -0.2        -0.91  \n",
      "4               -0.22               0.01          -0.2        -1.04  \n",
      "\n",
      "[5 rows x 95 columns]\n",
      "\n",
      "\n",
      "\n",
      "Medium Set: \n",
      "                                   event       date                location  \\\n",
      "0  UFC Fight Night: Ribas vs. Namajunas  3/23/2024  Las Vegas, Nevada, USA   \n",
      "1  UFC Fight Night: Ribas vs. Namajunas  3/23/2024  Las Vegas, Nevada, USA   \n",
      "2  UFC Fight Night: Ribas vs. Namajunas  3/23/2024  Las Vegas, Nevada, USA   \n",
      "3  UFC Fight Night: Ribas vs. Namajunas  3/23/2024  Las Vegas, Nevada, USA   \n",
      "4  UFC Fight Night: Ribas vs. Namajunas  3/23/2024  Las Vegas, Nevada, USA   \n",
      "\n",
      "          r_fighter          b_fighter status  r_kd  b_kd  r_str  b_str  r_td  \\\n",
      "0    Rose Namajunas       Amanda Ribas    win   0.0   0.0   93.0   83.0   1.0   \n",
      "1     Karl Williams        Justin Tafa    win   0.0   0.0   40.0   21.0   7.0   \n",
      "2  Edmen Shahbazyan          AJ Dobson    win   1.0   0.0   27.0   15.0   1.0   \n",
      "3    Payton Talbott    Cameron Saaiman    win   1.0   0.0   79.0   31.0   0.0   \n",
      "4     Youssef Zalal  Billy Quarantillo    win   0.0   0.0   33.0   10.0   2.0   \n",
      "\n",
      "   b_td  r_sub  b_sub       weight_class  method   method_detailed  round  \\\n",
      "0   4.0    0.0    0.0  Women's Flyweight   U-DEC               NaN    5.0   \n",
      "1   0.0    1.0    0.0        Heavyweight   U-DEC               NaN    3.0   \n",
      "2   0.0    0.0    0.0       Middleweight  KO/TKO           Punches    1.0   \n",
      "3   0.0    0.0    0.0       Bantamweight  KO/TKO           Punches    2.0   \n",
      "4   0.0    2.0    0.0      Featherweight     SUB  Rear Naked Choke    2.0   \n",
      "\n",
      "   time  \n",
      "0  5:00  \n",
      "1  5:00  \n",
      "2  4:33  \n",
      "3  0:21  \n",
      "4  1:50  \n",
      "\n",
      "\n",
      "\n",
      "Completed Events: \n",
      "                                      event               date  \\\n",
      "0     UFC Fight Night: Ribas vs. Namajunas     March 23, 2024   \n",
      "1      UFC Fight Night: Tuivasa vs. Tybura     March 16, 2024   \n",
      "2             UFC 299: O'Malley vs. Vera 2     March 09, 2024   \n",
      "3  UFC Fight Night: Rozenstruik vs. Gaziev     March 02, 2024   \n",
      "4     UFC Fight Night: Moreno vs. Royval 2  February 24, 2024   \n",
      "\n",
      "                                location  \n",
      "0                 Las Vegas, Nevada, USA  \n",
      "1                 Las Vegas, Nevada, USA  \n",
      "2                    Miami, Florida, USA  \n",
      "3                 Las Vegas, Nevada, USA  \n",
      "4  Mexico City, Distrito Federal, Mexico  \n",
      "\n",
      "\n",
      "\n",
      "Upcoming Events: \n",
      "                                      event            date  \\\n",
      "0  UFC Fight Night: Blanchfield vs. Fiorot  March 30, 2024   \n",
      "1      UFC Fight Night: Allen vs. Curtis 2  April 06, 2024   \n",
      "2                UFC 300: Pereira vs. Hill  April 13, 2024   \n",
      "3      UFC Fight Night: Nicolau vs. Kape 2  April 27, 2024   \n",
      "4               UFC 301: Pantoja vs. Erceg    May 04, 2024   \n",
      "\n",
      "                                 location  \n",
      "0          Atlantic City, New Jersey, USA  \n",
      "1                  Las Vegas, Nevada, USA  \n",
      "2                  Las Vegas, Nevada, USA  \n",
      "3                  Las Vegas, Nevada, USA  \n",
      "4  Rio de Janeiro, Rio de Janeiro, Brazil  \n"
     ]
    }
   ],
   "source": [
    "# view the head of each dataframe and explore the size and  datatypes\n",
    "\n",
    "print('Fighter Stats: \\n', fighter_stats.head())\n",
    "print('\\n' * 2) # line for separation\n",
    "print('Large Set: \\n', large_set.head())\n",
    "print('\\n' * 2) # line for separation\n",
    "print('Medium Set: \\n', medium_set.head())\n",
    "print('\\n' * 2) # line for separation\n",
    "print('Completed Events: \\n', complete_events.head())\n",
    "print('\\n' * 2) # line for separation\n",
    "print('Upcoming Events: \\n', upcoming_events.head())"
   ]
  },
  {
   "cell_type": "markdown",
   "id": "95e8cd7f-a84e-4a37-80f5-0c40a7e52d8d",
   "metadata": {},
   "source": [
    "## After looking over the data in all of these files, I will be focusing on the Large Set and Fighter Stats. These have the most comprehensive data, and cover all fighter info, the events they were in, and win/loss information."
   ]
  },
  {
   "cell_type": "markdown",
   "id": "02a33b3e-5f57-4c8a-8e1e-0a6d48f49e47",
   "metadata": {},
   "source": [
    "## -- Fighter Stats df initial exploration"
   ]
  },
  {
   "cell_type": "code",
   "execution_count": 3,
   "id": "c94f4641-3649-4969-8569-61b369678868",
   "metadata": {},
   "outputs": [
    {
     "name": "stdout",
     "output_type": "stream",
     "text": [
      "Column Data Types: \n",
      " name            object\n",
      "wins           float64\n",
      "losses         float64\n",
      "height         float64\n",
      "weight         float64\n",
      "reach          float64\n",
      "stance          object\n",
      "age            float64\n",
      "SLpM           float64\n",
      "sig_str_acc    float64\n",
      "SApM           float64\n",
      "str_def        float64\n",
      "td_avg         float64\n",
      "td_acc         float64\n",
      "td_def         float64\n",
      "sub_avg        float64\n",
      "dtype: object\n"
     ]
    }
   ],
   "source": [
    "# Check datatypes, get summary statistics for numeric columns, and check for null values.\n",
    "\n",
    "print('Column Data Types: \\n', fighter_stats.dtypes)"
   ]
  },
  {
   "cell_type": "markdown",
   "id": "c3d0c187-813d-4be3-be86-bdf8c8e2dab6",
   "metadata": {},
   "source": [
    "### Looks like the 'name' and 'stance' columns are Objects, and may be more useful as String"
   ]
  },
  {
   "cell_type": "code",
   "execution_count": 4,
   "id": "834b2287-c52a-4c22-afbb-b3c5b8df2b95",
   "metadata": {
    "scrolled": true
   },
   "outputs": [
    {
     "name": "stdout",
     "output_type": "stream",
     "text": [
      "Summary stats of Fighter Stats: \n",
      "               wins       losses       height       weight        reach  \\\n",
      "count  2478.000000  2478.000000  2478.000000  2478.000000  1823.000000   \n",
      "mean     14.399112     6.111380   178.384262    76.876852   182.035656   \n",
      "std       9.853474     4.548011     8.851777    17.976646    10.654129   \n",
      "min       0.000000     0.000000   152.400000    52.160000   147.320000   \n",
      "25%       9.000000     3.000000   172.720000    65.770000   175.260000   \n",
      "50%      13.000000     5.000000   177.800000    77.110000   182.880000   \n",
      "75%      18.000000     8.000000   185.420000    83.910000   190.500000   \n",
      "max     253.000000    53.000000   210.820000   349.270000   213.360000   \n",
      "\n",
      "               age         SLpM  sig_str_acc         SApM      str_def  \\\n",
      "count  2318.000000  2478.000000  2478.000000  2478.000000  2478.000000   \n",
      "mean     37.727783     2.932623     0.406029     3.388567     0.488910   \n",
      "std       7.251188     1.736693     0.151297     2.027258     0.162305   \n",
      "min      19.000000     0.000000     0.000000     0.000000     0.000000   \n",
      "25%      32.000000     1.810000     0.360000     2.320000     0.450000   \n",
      "50%      37.000000     2.900000     0.430000     3.230000     0.520000   \n",
      "75%      42.000000     3.920000     0.500000     4.290000     0.580000   \n",
      "max      81.000000    23.330000     1.000000    42.000000     1.000000   \n",
      "\n",
      "            td_avg       td_acc       td_def      sub_avg  \n",
      "count  2478.000000  2478.000000  2478.000000  2478.000000  \n",
      "mean      1.393543     0.322571     0.494972     0.602179  \n",
      "std       1.512821     0.256928     0.297551     1.057863  \n",
      "min       0.000000     0.000000     0.000000     0.000000  \n",
      "25%       0.120000     0.070000     0.300000     0.000000  \n",
      "50%       1.000000     0.330000     0.550000     0.300000  \n",
      "75%       2.065000     0.480000     0.710000     0.800000  \n",
      "max      13.950000     1.000000     1.000000    16.400000  \n"
     ]
    }
   ],
   "source": [
    "print('Summary stats of Fighter Stats: \\n', fighter_stats.describe())"
   ]
  },
  {
   "cell_type": "code",
   "execution_count": 5,
   "id": "4dad3e2b-0abe-4c20-8c48-c9d93e43a188",
   "metadata": {},
   "outputs": [
    {
     "name": "stdout",
     "output_type": "stream",
     "text": [
      "Check for null values: \n",
      " name             1\n",
      "wins             1\n",
      "losses           1\n",
      "height           1\n",
      "weight           1\n",
      "reach          656\n",
      "stance          78\n",
      "age            161\n",
      "SLpM             1\n",
      "sig_str_acc      1\n",
      "SApM             1\n",
      "str_def          1\n",
      "td_avg           1\n",
      "td_acc           1\n",
      "td_def           1\n",
      "sub_avg          1\n",
      "dtype: int64\n"
     ]
    }
   ],
   "source": [
    "print('Check for null values: \\n', fighter_stats.isnull().sum())"
   ]
  },
  {
   "cell_type": "markdown",
   "id": "d3a8129b-d265-4b49-9b31-dc962cf8127f",
   "metadata": {},
   "source": [
    "\n",
    "### Every column has at least one null value... but 3 columns have significant missing values - reach, stance and age."
   ]
  },
  {
   "cell_type": "code",
   "execution_count": 8,
   "id": "bb2eecb6-2246-46bb-9616-98cee1c8a3ed",
   "metadata": {},
   "outputs": [
    {
     "name": "stdout",
     "output_type": "stream",
     "text": [
      "Duplicates found: \n",
      " 0\n"
     ]
    }
   ],
   "source": [
    "#  Check for duplicates \n",
    "print('Duplicates found: \\n', fighter_stats.duplicated().sum())"
   ]
  },
  {
   "cell_type": "markdown",
   "id": "cc761c16-845e-4b52-8d63-07eb8013a1cf",
   "metadata": {},
   "source": [
    "### --Large Set initial exploration"
   ]
  },
  {
   "cell_type": "code",
   "execution_count": 9,
   "id": "27fca90a-9726-403d-8f16-0f2ed15074b8",
   "metadata": {},
   "outputs": [
    {
     "name": "stdout",
     "output_type": "stream",
     "text": [
      "Column Data Types: \n",
      " event_name             object\n",
      "r_fighter              object\n",
      "b_fighter              object\n",
      "winner                 object\n",
      "weight_class           object\n",
      "                       ...   \n",
      "td_acc_total_diff     float64\n",
      "str_def_total_diff    float64\n",
      "td_def_total_diff     float64\n",
      "sub_avg_diff          float64\n",
      "td_avg_diff           float64\n",
      "Length: 95, dtype: object\n"
     ]
    }
   ],
   "source": [
    "# Check datatypes, get summary statistics for numeric columns, and check for null values.\n",
    "\n",
    "print('Column Data Types: \\n', large_set.dtypes)"
   ]
  },
  {
   "cell_type": "markdown",
   "id": "11c27257-c6e4-4c73-b28f-6ef051c9846b",
   "metadata": {},
   "source": [
    "Some of these may need to be converted to String, just like the fighter_stats dataframe. "
   ]
  },
  {
   "cell_type": "code",
   "execution_count": 10,
   "id": "fede9f0e-79a2-4255-b77c-54afcf4351ff",
   "metadata": {},
   "outputs": [
    {
     "name": "stdout",
     "output_type": "stream",
     "text": [
      "Summary stats of the Large Set: \n",
      "        is_title_bout  finish_round  total_rounds     time_sec         r_kd  \\\n",
      "count    7439.000000   7439.000000   7408.000000  7439.000000  7439.000000   \n",
      "mean        0.055787      2.336336      3.128915   227.016669     0.249227   \n",
      "std         0.229525      1.015243      0.652739    98.169665     0.524210   \n",
      "min         0.000000      1.000000      1.000000     5.000000     0.000000   \n",
      "25%         0.000000      1.000000      3.000000   149.000000     0.000000   \n",
      "50%         0.000000      3.000000      3.000000   287.000000     0.000000   \n",
      "75%         0.000000      3.000000      3.000000   300.000000     0.000000   \n",
      "max         1.000000      5.000000      5.000000  1080.000000     5.000000   \n",
      "\n",
      "         r_sig_str  r_sig_str_att  r_sig_str_acc        r_str    r_str_att  \\\n",
      "count  7439.000000    7439.000000    7439.000000  7439.000000  7439.000000   \n",
      "mean     38.361204      83.786262       0.475335    58.199892   106.374916   \n",
      "std      32.871278      71.381806       0.165935    46.057503    79.812210   \n",
      "min       0.000000       0.000000       0.000000     0.000000     0.000000   \n",
      "25%      14.000000      29.000000       0.370000    22.000000    40.000000   \n",
      "50%      31.000000      66.000000       0.470000    50.000000    94.000000   \n",
      "75%      54.000000     120.000000       0.570000    83.000000   156.000000   \n",
      "max     445.000000     744.000000       1.000000   447.000000   746.000000   \n",
      "\n",
      "       ...  weight_diff   reach_diff  SLpM_total_diff  SApM_total_diff  \\\n",
      "count  ...  7439.000000  6401.000000      7439.000000      7439.000000   \n",
      "mean   ...     0.171000     0.190073         0.142594        -0.171643   \n",
      "std    ...     6.774199     8.252628         1.585610         1.691358   \n",
      "min    ...  -258.550000   -27.940000        -8.990000       -39.490000   \n",
      "25%    ...     0.000000    -5.080000        -0.860000        -1.040000   \n",
      "50%    ...     0.000000     0.000000         0.130000        -0.120000   \n",
      "75%    ...     0.000000     5.080000         1.160000         0.790000   \n",
      "max    ...    52.160000    33.020000        18.780000        12.640000   \n",
      "\n",
      "       sig_str_acc_total_diff  td_acc_total_diff  str_def_total_diff  \\\n",
      "count             7439.000000        7439.000000         7439.000000   \n",
      "mean                 0.012109           0.028164            0.020909   \n",
      "std                  0.119919           0.276307            0.113455   \n",
      "min                 -0.700000          -1.000000           -0.580000   \n",
      "25%                 -0.060000          -0.130000           -0.040000   \n",
      "50%                  0.010000           0.020000            0.010000   \n",
      "75%                  0.080000           0.190000            0.080000   \n",
      "max                  0.830000           1.000000            0.720000   \n",
      "\n",
      "       td_def_total_diff  sub_avg_diff  td_avg_diff  \n",
      "count        7439.000000   7439.000000  7439.000000  \n",
      "mean            0.037513      0.045651     0.134487  \n",
      "std             0.292107      1.052065     1.781598  \n",
      "min            -1.000000    -15.100000   -11.770000  \n",
      "25%            -0.140000     -0.400000    -0.870000  \n",
      "50%             0.020000      0.000000     0.090000  \n",
      "75%             0.210000      0.500000     1.160000  \n",
      "max             1.000000     13.800000    11.110000  \n",
      "\n",
      "[8 rows x 85 columns]\n"
     ]
    }
   ],
   "source": [
    "print('Summary stats of the Large Set: \\n', large_set.describe())"
   ]
  },
  {
   "cell_type": "code",
   "execution_count": 11,
   "id": "8967ffac-84bb-4852-a42b-d2c119f720d4",
   "metadata": {},
   "outputs": [
    {
     "name": "stdout",
     "output_type": "stream",
     "text": [
      "Check for null values: \n",
      " event_name            0\n",
      "r_fighter             0\n",
      "b_fighter             0\n",
      "winner                0\n",
      "weight_class          0\n",
      "                     ..\n",
      "td_acc_total_diff     0\n",
      "str_def_total_diff    0\n",
      "td_def_total_diff     0\n",
      "sub_avg_diff          0\n",
      "td_avg_diff           0\n",
      "Length: 95, dtype: int64\n"
     ]
    }
   ],
   "source": [
    "print('Check for null values: \\n', large_set.isnull().sum())"
   ]
  },
  {
   "cell_type": "code",
   "execution_count": 12,
   "id": "0e9e6b72-f475-478d-8a90-0256cfafee89",
   "metadata": {},
   "outputs": [
    {
     "name": "stdout",
     "output_type": "stream",
     "text": [
      "Duplicates found: \n",
      " 0\n"
     ]
    }
   ],
   "source": [
    "#  Check for duplicates \n",
    "print('Duplicates found: \\n', large_set.duplicated().sum())"
   ]
  },
  {
   "cell_type": "markdown",
   "id": "f25a4cb4-de70-4719-baeb-3ddc0e801900",
   "metadata": {},
   "source": []
  },
  {
   "cell_type": "markdown",
   "id": "35766d86-e781-431c-83df-eeb1d1c43fe0",
   "metadata": {},
   "source": []
  }
 ],
 "metadata": {
  "kernelspec": {
   "display_name": "Python 3 (ipykernel)",
   "language": "python",
   "name": "python3"
  },
  "language_info": {
   "codemirror_mode": {
    "name": "ipython",
    "version": 3
   },
   "file_extension": ".py",
   "mimetype": "text/x-python",
   "name": "python",
   "nbconvert_exporter": "python",
   "pygments_lexer": "ipython3",
   "version": "3.11.1"
  }
 },
 "nbformat": 4,
 "nbformat_minor": 5
}
