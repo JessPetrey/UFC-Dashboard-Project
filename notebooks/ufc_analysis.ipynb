{
 "cells": [
  {
   "cell_type": "markdown",
   "id": "71a7c08c-e4a7-4e32-9b29-e7c5d8759502",
   "metadata": {},
   "source": [
    "# Business Report : UFC Fighter Trends and Insights : Marketing / Promotional Focus\n",
    "In this project, I analyze UFC fight data to gain insights into fighter performance, trends in fighter metrics, and fight outcomes by weight class. "
   ]
  },
  {
   "cell_type": "markdown",
   "id": "3349f566-de80-44e5-bca0-ddb62cb07378",
   "metadata": {},
   "source": [
    "## Key Business Questions : \n",
    "\n",
    "**Which fighters show consistent improvement over time?**\n",
    "  - This can identify fighters who could be future stars and worth heavily promoting.\n",
    "\n",
    "\n",
    "**Which weight classes have the most competitive fights?**\n",
    "  - This can inform descisions on which weight classes to market as having exciting matchups.\n",
    "\n",
    "\n",
    "**Are there any emerging trends in fighter metrics that could affect the evolution of the sport?**\n",
    "  - This would be useful for adapting promotional content or strategy.\n",
    "\n",
    "\n",
    "**Which fight outcomes are most common, and how do they vary by weight class?**\n",
    "  - Insight into outcome patterns can guide marketing narratives."
   ]
  },
  {
   "cell_type": "markdown",
   "id": "9dd69355-60db-4b5a-abe2-8bc0df5bc5e3",
   "metadata": {},
   "source": [
    "## Dataset downloaded from Kaggle: [UFC Complete Dataset 1996-2024](https://www.kaggle.com/datasets/maksbasher/ufc-complete-dataset-all-events-1996-2024/data)\n",
    "\n",
    "### This dataset contains the following:\n",
    "\n",
    "    • Fighter stats - The folder contains 2 files, one is .csv cleaned from duplicates and .txt as a source for the fighter stats dataset\n",
    "    \n",
    "    • Large set - The folder contains the biggest dataset yet (contains 7439 rows and 94 columns)\n",
    "    \n",
    "    • Medium set - The folder contains the medium dataset for basic tasks (contains 7582 rows and 19 columns)\n",
    "    \n",
    "    • Small set - The folder contains the small dataset with data about completed and upcoming events with only 683 rows and 3 columns\n",
    "    \n",
    "    • Urls - The folder contains all the urls that were parced to get the data from the UFCstats website\n",
    "\n",
    "\n",
    "---\n"
   ]
  },
  {
   "cell_type": "markdown",
   "id": "494f4351-10af-401d-831b-6606402ee2c8",
   "metadata": {},
   "source": [
    "## Load and display the data"
   ]
  },
  {
   "cell_type": "markdown",
   "id": "a44d8323-dd9e-4136-acc2-90e381bceaf3",
   "metadata": {},
   "source": [
    "*In this step, we first import the package(s) needed to load the data and conduct initial exploratory analysis. In this case, we need the Python 'pandas' library, and give it the nickname 'pd'.*\n",
    "*Then we can read the csv files into dataframes using 'pd.read_csv(...)', and assign them meaningful variable names that we will use to access the data later.*\n",
    "\n",
    "---\n"
   ]
  },
  {
   "cell_type": "code",
   "execution_count": 13,
   "id": "244c0d42-6622-41c4-8704-a190dee41987",
   "metadata": {},
   "outputs": [],
   "source": [
    "import pandas as pd\n",
    "# load each csv into it's own dataframe\n",
    "fighter_stats = pd.read_csv('../data/Fighter stats/fighter_stats.csv')\n",
    "\n",
    "large_set = pd.read_csv('../data/Large set/large_dataset.csv')\n",
    "\n",
    "medium_set = pd.read_csv('../data/Medium set/medium_dataset.csv')\n",
    "\n",
    "complete_events = pd.read_csv('../data/Small set/completed_events_small.csv')\n",
    "\n",
    "upcoming_events = pd.read_csv('../data/Small set/upcoming_events_small.csv')\n"
   ]
  },
  {
   "cell_type": "code",
   "execution_count": 14,
   "id": "a6dce8f4-6f77-414b-ad4b-057862678904",
   "metadata": {
    "scrolled": true
   },
   "outputs": [
    {
     "name": "stdout",
     "output_type": "stream",
     "text": [
      "Fighter Stats: \n",
      "                name  wins  losses  height  weight   reach    stance   age  \\\n",
      "0      Amanda Ribas  12.0     5.0  160.02   56.70  167.64  Orthodox  30.0   \n",
      "1    Rose Namajunas  13.0     6.0  165.10   56.70  165.10  Orthodox  31.0   \n",
      "2     Karl Williams  10.0     1.0  190.50  106.59  200.66  Orthodox  34.0   \n",
      "3       Justin Tafa   7.0     4.0  182.88  119.75  187.96  Southpaw  30.0   \n",
      "4  Edmen Shahbazyan  13.0     4.0  187.96   83.91  190.50  Orthodox  26.0   \n",
      "\n",
      "   SLpM  sig_str_acc  SApM  str_def  td_avg  td_acc  td_def  sub_avg  \n",
      "0  4.63         0.40  3.40     0.61    2.07    0.51    0.85      0.7  \n",
      "1  3.69         0.41  3.51     0.63    1.38    0.47    0.59      0.5  \n",
      "2  2.87         0.52  1.70     0.60    4.75    0.50    1.00      0.2  \n",
      "3  4.09         0.54  5.02     0.47    0.00    0.00    0.50      0.0  \n",
      "4  3.60         0.52  4.09     0.45    2.24    0.38    0.63      0.6  \n",
      "\n",
      "\n",
      "\n",
      "Large Set: \n",
      "                              event_name          r_fighter        b_fighter  \\\n",
      "0  UFC Fight Night: Ribas vs. Namajunas       Amanda Ribas   Rose Namajunas   \n",
      "1  UFC Fight Night: Ribas vs. Namajunas      Karl Williams      Justin Tafa   \n",
      "2  UFC Fight Night: Ribas vs. Namajunas   Edmen Shahbazyan        AJ Dobson   \n",
      "3  UFC Fight Night: Ribas vs. Namajunas     Payton Talbott  Cameron Saaiman   \n",
      "4  UFC Fight Night: Ribas vs. Namajunas  Billy Quarantillo    Youssef Zalal   \n",
      "\n",
      "  winner       weight_class  is_title_bout gender                method  \\\n",
      "0   Blue  Women's Flyweight              0  Women  Decision - Unanimous   \n",
      "1    Red        Heavyweight              0    Men  Decision - Unanimous   \n",
      "2    Red       Middleweight              0    Men                KO/TKO   \n",
      "3    Red       Bantamweight              0    Men                KO/TKO   \n",
      "4   Blue      Featherweight              0    Men            Submission   \n",
      "\n",
      "   finish_round  total_rounds  ...  weight_diff reach_diff  SLpM_total_diff  \\\n",
      "0             5           5.0  ...         0.00       2.54             0.94   \n",
      "1             3           3.0  ...       -13.16      12.70            -1.22   \n",
      "2             1           3.0  ...         0.00      -2.54            -0.69   \n",
      "3             2           3.0  ...         0.00       7.62             2.73   \n",
      "4             2           3.0  ...         0.00      -5.08             4.48   \n",
      "\n",
      "   SApM_total_diff  sig_str_acc_total_diff  td_acc_total_diff  \\\n",
      "0            -0.11                   -0.01               0.04   \n",
      "1            -3.32                   -0.02               0.50   \n",
      "2            -1.22                    0.06              -0.37   \n",
      "3            -0.60                    0.08              -0.28   \n",
      "4             3.84                    0.07              -0.11   \n",
      "\n",
      "   str_def_total_diff  td_def_total_diff  sub_avg_diff  td_avg_diff  \n",
      "0               -0.02               0.26           0.2         0.69  \n",
      "1                0.13               0.50           0.2         4.75  \n",
      "2               -0.01              -0.02           0.3         0.57  \n",
      "3                0.00               0.43          -0.2        -0.91  \n",
      "4               -0.22               0.01          -0.2        -1.04  \n",
      "\n",
      "[5 rows x 95 columns]\n",
      "\n",
      "\n",
      "\n",
      "Medium Set: \n",
      "                                   event       date                location  \\\n",
      "0  UFC Fight Night: Ribas vs. Namajunas  3/23/2024  Las Vegas, Nevada, USA   \n",
      "1  UFC Fight Night: Ribas vs. Namajunas  3/23/2024  Las Vegas, Nevada, USA   \n",
      "2  UFC Fight Night: Ribas vs. Namajunas  3/23/2024  Las Vegas, Nevada, USA   \n",
      "3  UFC Fight Night: Ribas vs. Namajunas  3/23/2024  Las Vegas, Nevada, USA   \n",
      "4  UFC Fight Night: Ribas vs. Namajunas  3/23/2024  Las Vegas, Nevada, USA   \n",
      "\n",
      "          r_fighter          b_fighter status  r_kd  b_kd  r_str  b_str  r_td  \\\n",
      "0    Rose Namajunas       Amanda Ribas    win   0.0   0.0   93.0   83.0   1.0   \n",
      "1     Karl Williams        Justin Tafa    win   0.0   0.0   40.0   21.0   7.0   \n",
      "2  Edmen Shahbazyan          AJ Dobson    win   1.0   0.0   27.0   15.0   1.0   \n",
      "3    Payton Talbott    Cameron Saaiman    win   1.0   0.0   79.0   31.0   0.0   \n",
      "4     Youssef Zalal  Billy Quarantillo    win   0.0   0.0   33.0   10.0   2.0   \n",
      "\n",
      "   b_td  r_sub  b_sub       weight_class  method   method_detailed  round  \\\n",
      "0   4.0    0.0    0.0  Women's Flyweight   U-DEC               NaN    5.0   \n",
      "1   0.0    1.0    0.0        Heavyweight   U-DEC               NaN    3.0   \n",
      "2   0.0    0.0    0.0       Middleweight  KO/TKO           Punches    1.0   \n",
      "3   0.0    0.0    0.0       Bantamweight  KO/TKO           Punches    2.0   \n",
      "4   0.0    2.0    0.0      Featherweight     SUB  Rear Naked Choke    2.0   \n",
      "\n",
      "   time  \n",
      "0  5:00  \n",
      "1  5:00  \n",
      "2  4:33  \n",
      "3  0:21  \n",
      "4  1:50  \n",
      "\n",
      "\n",
      "\n",
      "Completed Events: \n",
      "                                      event               date  \\\n",
      "0     UFC Fight Night: Ribas vs. Namajunas     March 23, 2024   \n",
      "1      UFC Fight Night: Tuivasa vs. Tybura     March 16, 2024   \n",
      "2             UFC 299: O'Malley vs. Vera 2     March 09, 2024   \n",
      "3  UFC Fight Night: Rozenstruik vs. Gaziev     March 02, 2024   \n",
      "4     UFC Fight Night: Moreno vs. Royval 2  February 24, 2024   \n",
      "\n",
      "                                location  \n",
      "0                 Las Vegas, Nevada, USA  \n",
      "1                 Las Vegas, Nevada, USA  \n",
      "2                    Miami, Florida, USA  \n",
      "3                 Las Vegas, Nevada, USA  \n",
      "4  Mexico City, Distrito Federal, Mexico  \n",
      "\n",
      "\n",
      "\n",
      "Upcoming Events: \n",
      "                                      event            date  \\\n",
      "0  UFC Fight Night: Blanchfield vs. Fiorot  March 30, 2024   \n",
      "1      UFC Fight Night: Allen vs. Curtis 2  April 06, 2024   \n",
      "2                UFC 300: Pereira vs. Hill  April 13, 2024   \n",
      "3      UFC Fight Night: Nicolau vs. Kape 2  April 27, 2024   \n",
      "4               UFC 301: Pantoja vs. Erceg    May 04, 2024   \n",
      "\n",
      "                                 location  \n",
      "0          Atlantic City, New Jersey, USA  \n",
      "1                  Las Vegas, Nevada, USA  \n",
      "2                  Las Vegas, Nevada, USA  \n",
      "3                  Las Vegas, Nevada, USA  \n",
      "4  Rio de Janeiro, Rio de Janeiro, Brazil  \n"
     ]
    }
   ],
   "source": [
    "# view the head of each dataframe and explore the size and  datatypes\n",
    "\n",
    "print('Fighter Stats: \\n', fighter_stats.head())\n",
    "print('\\n' * 2) # line for separation\n",
    "print('Large Set: \\n', large_set.head())\n",
    "print('\\n' * 2) # line for separation\n",
    "print('Medium Set: \\n', medium_set.head())\n",
    "print('\\n' * 2) # line for separation\n",
    "print('Completed Events: \\n', complete_events.head())\n",
    "print('\\n' * 2) # line for separation\n",
    "print('Upcoming Events: \\n', upcoming_events.head())"
   ]
  },
  {
   "cell_type": "markdown",
   "id": "95e8cd7f-a84e-4a37-80f5-0c40a7e52d8d",
   "metadata": {},
   "source": [
    "\n",
    "---\n",
    "\n",
    "*After looking over the data in all of these files, I will be focusing on the Large Set and Small Set - The Large Set contains fighter metrics as well as event names and outcomes, but does not include the date of the event or location. The Small Set contains event name, date and location for completed events in one file, and upcoming events in another file.*\n",
    "\n",
    "*By connecting the completed events data from the Small Set with the event and fighter data in the Large Set, I will be able to measure fighter improvements over time.*\n",
    "\n",
    "---\n"
   ]
  },
  {
   "cell_type": "markdown",
   "id": "cc761c16-845e-4b52-8d63-07eb8013a1cf",
   "metadata": {},
   "source": [
    "## Initial exploration of datasets - Large Set, Completed Events\n",
    "\n",
    "---\n",
    "\n",
    " *In this step, I want to understand the types and structure of the data. This is where I check for missing values, duplicate rows, and whether there are inconsistencies in formatting. All of these determine my next steps in cleaning / manipulating the dataframes.*"
   ]
  },
  {
   "cell_type": "code",
   "execution_count": 28,
   "id": "27fca90a-9726-403d-8f16-0f2ed15074b8",
   "metadata": {
    "scrolled": true
   },
   "outputs": [
    {
     "name": "stdout",
     "output_type": "stream",
     "text": [
      "Large Set Data Types: \n",
      " event_name             object\n",
      "r_fighter              object\n",
      "b_fighter              object\n",
      "winner                 object\n",
      "weight_class           object\n",
      "                       ...   \n",
      "td_acc_total_diff     float64\n",
      "str_def_total_diff    float64\n",
      "td_def_total_diff     float64\n",
      "sub_avg_diff          float64\n",
      "td_avg_diff           float64\n",
      "Length: 95, dtype: object\n"
     ]
    }
   ],
   "source": [
    "print('Large Set Data Types: \\n', large_set.dtypes)"
   ]
  },
  {
   "cell_type": "code",
   "execution_count": 29,
   "id": "dfc8633d-04e2-4a6d-b26e-b1bb500c7fcb",
   "metadata": {},
   "outputs": [
    {
     "name": "stdout",
     "output_type": "stream",
     "text": [
      "Completed Events Data Types: \n",
      " event       object\n",
      "date        object\n",
      "location    object\n",
      "dtype: object\n"
     ]
    }
   ],
   "source": [
    "print('Completed Events Data Types: \\n', complete_events.dtypes)"
   ]
  },
  {
   "cell_type": "markdown",
   "id": "0977c615-e2fb-4848-847b-0d710ca601d5",
   "metadata": {},
   "source": [
    "---\n",
    "\n",
    "*I may need to convert some columns to String - the event name, fighter names, winner and weight class columns for example. For now, I'll continue to explore the data.*\n",
    "\n",
    "---"
   ]
  },
  {
   "cell_type": "markdown",
   "id": "9cac13a2-9980-4ae5-8417-3248bea7a811",
   "metadata": {},
   "source": [
    "*Check for missing values, and duplicate rows*\n",
    "\n",
    "---"
   ]
  },
  {
   "cell_type": "code",
   "execution_count": 26,
   "id": "8967ffac-84bb-4852-a42b-d2c119f720d4",
   "metadata": {},
   "outputs": [
    {
     "name": "stdout",
     "output_type": "stream",
     "text": [
      "Missing values in Large Set: \n",
      " event_name            0\n",
      "r_fighter             0\n",
      "b_fighter             0\n",
      "winner                0\n",
      "weight_class          0\n",
      "                     ..\n",
      "td_acc_total_diff     0\n",
      "str_def_total_diff    0\n",
      "td_def_total_diff     0\n",
      "sub_avg_diff          0\n",
      "td_avg_diff           0\n",
      "Length: 95, dtype: int64\n"
     ]
    }
   ],
   "source": [
    "print('Missing values in Large Set: \\n', large_set.isnull().sum())"
   ]
  },
  {
   "cell_type": "code",
   "execution_count": 27,
   "id": "418ad805-e8ef-47ef-8448-839aab116c2e",
   "metadata": {},
   "outputs": [
    {
     "name": "stdout",
     "output_type": "stream",
     "text": [
      "Missing values in Completed Events: \n",
      " event       0\n",
      "date        0\n",
      "location    0\n",
      "dtype: int64\n"
     ]
    }
   ],
   "source": [
    "print('Missing values in Completed Events: \\n', complete_events.isnull().sum())"
   ]
  },
  {
   "cell_type": "code",
   "execution_count": 24,
   "id": "0e9e6b72-f475-478d-8a90-0256cfafee89",
   "metadata": {},
   "outputs": [
    {
     "name": "stdout",
     "output_type": "stream",
     "text": [
      "Duplicates found in Large Set: \n",
      " 0\n",
      "Duplicates found in Completed Events: \n",
      " 0\n"
     ]
    }
   ],
   "source": [
    "#  Check for duplicates \n",
    "print('Duplicates found in Large Set: \\n', large_set.duplicated().sum())\n",
    "print('Duplicates found in Completed Events: \\n', complete_events.duplicated().sum())"
   ]
  },
  {
   "cell_type": "markdown",
   "id": "7e976ba9-3ca1-4ce0-9f72-a2e7bf5891b2",
   "metadata": {},
   "source": [
    "---\n",
    "\n",
    "## Cleaning the data\n",
    "\n",
    "---"
   ]
  },
  {
   "cell_type": "markdown",
   "id": "4ec6b71f-25e7-496a-b99c-7fe1280e5777",
   "metadata": {},
   "source": [
    "The first thing I want to do here is to combine the completed events date and location data with the large set."
   ]
  },
  {
   "cell_type": "code",
   "execution_count": 30,
   "id": "df262d93-9f6a-4b2a-ab07-fa228bf0bafe",
   "metadata": {},
   "outputs": [],
   "source": [
    "# connect the 2 dataframes. "
   ]
  },
  {
   "cell_type": "markdown",
   "id": "f25a4cb4-de70-4719-baeb-3ddc0e801900",
   "metadata": {},
   "source": [
    "---\n",
    "\n",
    "## Business Qustions\n",
    "\n",
    "*In this section, I clean, format, and join the data as needed to be able to answer the business questions I have outlined at the start of this project. Each question has it's own section, to be easy to follow along.*\n",
    "\n",
    "---"
   ]
  },
  {
   "cell_type": "code",
   "execution_count": null,
   "id": "577f3822-0cac-4d63-8d9c-868a954534a8",
   "metadata": {},
   "outputs": [],
   "source": []
  },
  {
   "cell_type": "markdown",
   "id": "35766d86-e781-431c-83df-eeb1d1c43fe0",
   "metadata": {},
   "source": [
    "1. Which fighters show consistent improvement over time?\n",
    "\n",
    "\n",
    "\n",
    "\n"
   ]
  },
  {
   "cell_type": "code",
   "execution_count": null,
   "id": "4c351a8c-3692-4c4d-805a-47859c755d95",
   "metadata": {},
   "outputs": [],
   "source": []
  }
 ],
 "metadata": {
  "kernelspec": {
   "display_name": "Python 3 (ipykernel)",
   "language": "python",
   "name": "python3"
  },
  "language_info": {
   "codemirror_mode": {
    "name": "ipython",
    "version": 3
   },
   "file_extension": ".py",
   "mimetype": "text/x-python",
   "name": "python",
   "nbconvert_exporter": "python",
   "pygments_lexer": "ipython3",
   "version": "3.11.1"
  }
 },
 "nbformat": 4,
 "nbformat_minor": 5
}
