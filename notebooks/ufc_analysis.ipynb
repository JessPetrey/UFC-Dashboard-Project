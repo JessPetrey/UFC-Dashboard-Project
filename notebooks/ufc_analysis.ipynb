{
 "cells": [
  {
   "cell_type": "markdown",
   "id": "71a7c08c-e4a7-4e32-9b29-e7c5d8759502",
   "metadata": {},
   "source": [
    "# Business Report : UFC Fighter Trends and Insights : Marketing / Promotional Focus\n",
    "In this project, I analyze UFC fight data to gain insights into fighter performance, trends in fighter metrics, and fight outcomes by weight class. "
   ]
  },
  {
   "cell_type": "markdown",
   "id": "3349f566-de80-44e5-bca0-ddb62cb07378",
   "metadata": {},
   "source": [
    "## Key Business Questions : \n",
    "\n",
    "**Which fighters show consistent improvement over time?**\n",
    "  - This can identify fighters who could be future stars and worth heavily promoting.\n",
    "\n",
    "\n",
    "**Which weight classes have the most competitive fights?**\n",
    "  - This can inform descisions on which weight classes to market as having exciting matchups.\n",
    "\n",
    "\n",
    "**Are there any emerging trends in fighter metrics that could affect the evolution of the sport?**\n",
    "  - This would be useful for adapting promotional content or strategy.\n",
    "\n",
    "\n",
    "**Which fight outcomes are most common, and how do they vary by weight class?**\n",
    "  - Insight into outcome patterns can guide marketing narratives."
   ]
  },
  {
   "cell_type": "markdown",
   "id": "9dd69355-60db-4b5a-abe2-8bc0df5bc5e3",
   "metadata": {},
   "source": [
    "## Dataset downloaded from Kaggle: [UFC Complete Dataset 1996-2024](https://www.kaggle.com/datasets/maksbasher/ufc-complete-dataset-all-events-1996-2024/data)\n",
    "\n",
    "### This dataset contains the following:\n",
    "\n",
    "    • Fighter stats - The folder contains 2 files, one is .csv cleaned from duplicates and .txt as a source for the fighter stats dataset\n",
    "    \n",
    "    • Large set - The folder contains the biggest dataset yet (contains 7439 rows and 94 columns)\n",
    "    \n",
    "    • Medium set - The folder contains the medium dataset for basic tasks (contains 7582 rows and 19 columns)\n",
    "    \n",
    "    • Small set - The folder contains the small dataset with data about completed and upcoming events with only 683 rows and 3 columns\n",
    "    \n",
    "    • Urls - The folder contains all the urls that were parced to get the data from the UFCstats website\n",
    "\n",
    "\n",
    "---\n"
   ]
  },
  {
   "cell_type": "markdown",
   "id": "494f4351-10af-401d-831b-6606402ee2c8",
   "metadata": {},
   "source": [
    "## Load and display the data"
   ]
  },
  {
   "cell_type": "markdown",
   "id": "a44d8323-dd9e-4136-acc2-90e381bceaf3",
   "metadata": {},
   "source": [
    "*In this step, we first import the package(s) needed to load the data and conduct initial exploratory analysis. In this case, we need the Python 'pandas' library, and give it the nickname 'pd'.*\n",
    "*Then we can read the csv files into dataframes using 'pd.read_csv(...)', and assign them meaningful variable names that we will use to access the data later.*\n",
    "\n",
    "*We also need matplotlib for visializtions later on.*\n",
    "\n",
    "---\n"
   ]
  },
  {
   "cell_type": "code",
   "execution_count": 34,
   "id": "244c0d42-6622-41c4-8704-a190dee41987",
   "metadata": {},
   "outputs": [
    {
     "ename": "ModuleNotFoundError",
     "evalue": "No module named 'matplotlib'",
     "output_type": "error",
     "traceback": [
      "\u001b[0;31m---------------------------------------------------------------------------\u001b[0m",
      "\u001b[0;31mModuleNotFoundError\u001b[0m                       Traceback (most recent call last)",
      "Cell \u001b[0;32mIn[34], line 2\u001b[0m\n\u001b[1;32m      1\u001b[0m \u001b[38;5;28;01mimport\u001b[39;00m \u001b[38;5;21;01mpandas\u001b[39;00m \u001b[38;5;28;01mas\u001b[39;00m \u001b[38;5;21;01mpd\u001b[39;00m\n\u001b[0;32m----> 2\u001b[0m \u001b[38;5;28;01mimport\u001b[39;00m \u001b[38;5;21;01mmatplotlib\u001b[39;00m\n\u001b[1;32m      4\u001b[0m \u001b[38;5;66;03m# load each csv into it's own dataframe\u001b[39;00m\n\u001b[1;32m      5\u001b[0m fighter_stats \u001b[38;5;241m=\u001b[39m pd\u001b[38;5;241m.\u001b[39mread_csv(\u001b[38;5;124m'\u001b[39m\u001b[38;5;124m../data/Fighter stats/fighter_stats.csv\u001b[39m\u001b[38;5;124m'\u001b[39m)\n",
      "\u001b[0;31mModuleNotFoundError\u001b[0m: No module named 'matplotlib'"
     ]
    }
   ],
   "source": [
    "import pandas as pd\n",
    "import matplotlib\n",
    "\n",
    "# load each csv into it's own dataframe\n",
    "fighter_stats = pd.read_csv('../data/Fighter stats/fighter_stats.csv')\n",
    "\n",
    "large_set = pd.read_csv('../data/Large set/large_dataset.csv')\n",
    "\n",
    "medium_set = pd.read_csv('../data/Medium set/medium_dataset.csv')\n",
    "\n",
    "complete_events = pd.read_csv('../data/Small set/completed_events_small.csv')\n",
    "\n",
    "upcoming_events = pd.read_csv('../data/Small set/upcoming_events_small.csv')\n"
   ]
  },
  {
   "cell_type": "code",
   "execution_count": 2,
   "id": "a6dce8f4-6f77-414b-ad4b-057862678904",
   "metadata": {
    "scrolled": true
   },
   "outputs": [
    {
     "name": "stdout",
     "output_type": "stream",
     "text": [
      "Fighter Stats: \n",
      "                name  wins  losses  height  weight   reach    stance   age  \\\n",
      "0      Amanda Ribas  12.0     5.0  160.02   56.70  167.64  Orthodox  30.0   \n",
      "1    Rose Namajunas  13.0     6.0  165.10   56.70  165.10  Orthodox  31.0   \n",
      "2     Karl Williams  10.0     1.0  190.50  106.59  200.66  Orthodox  34.0   \n",
      "3       Justin Tafa   7.0     4.0  182.88  119.75  187.96  Southpaw  30.0   \n",
      "4  Edmen Shahbazyan  13.0     4.0  187.96   83.91  190.50  Orthodox  26.0   \n",
      "\n",
      "   SLpM  sig_str_acc  SApM  str_def  td_avg  td_acc  td_def  sub_avg  \n",
      "0  4.63         0.40  3.40     0.61    2.07    0.51    0.85      0.7  \n",
      "1  3.69         0.41  3.51     0.63    1.38    0.47    0.59      0.5  \n",
      "2  2.87         0.52  1.70     0.60    4.75    0.50    1.00      0.2  \n",
      "3  4.09         0.54  5.02     0.47    0.00    0.00    0.50      0.0  \n",
      "4  3.60         0.52  4.09     0.45    2.24    0.38    0.63      0.6  \n",
      "\n",
      "\n",
      "\n",
      "Large Set: \n",
      "                              event_name          r_fighter        b_fighter  \\\n",
      "0  UFC Fight Night: Ribas vs. Namajunas       Amanda Ribas   Rose Namajunas   \n",
      "1  UFC Fight Night: Ribas vs. Namajunas      Karl Williams      Justin Tafa   \n",
      "2  UFC Fight Night: Ribas vs. Namajunas   Edmen Shahbazyan        AJ Dobson   \n",
      "3  UFC Fight Night: Ribas vs. Namajunas     Payton Talbott  Cameron Saaiman   \n",
      "4  UFC Fight Night: Ribas vs. Namajunas  Billy Quarantillo    Youssef Zalal   \n",
      "\n",
      "  winner       weight_class  is_title_bout gender                method  \\\n",
      "0   Blue  Women's Flyweight              0  Women  Decision - Unanimous   \n",
      "1    Red        Heavyweight              0    Men  Decision - Unanimous   \n",
      "2    Red       Middleweight              0    Men                KO/TKO   \n",
      "3    Red       Bantamweight              0    Men                KO/TKO   \n",
      "4   Blue      Featherweight              0    Men            Submission   \n",
      "\n",
      "   finish_round  total_rounds  ...  weight_diff reach_diff  SLpM_total_diff  \\\n",
      "0             5           5.0  ...         0.00       2.54             0.94   \n",
      "1             3           3.0  ...       -13.16      12.70            -1.22   \n",
      "2             1           3.0  ...         0.00      -2.54            -0.69   \n",
      "3             2           3.0  ...         0.00       7.62             2.73   \n",
      "4             2           3.0  ...         0.00      -5.08             4.48   \n",
      "\n",
      "   SApM_total_diff  sig_str_acc_total_diff  td_acc_total_diff  \\\n",
      "0            -0.11                   -0.01               0.04   \n",
      "1            -3.32                   -0.02               0.50   \n",
      "2            -1.22                    0.06              -0.37   \n",
      "3            -0.60                    0.08              -0.28   \n",
      "4             3.84                    0.07              -0.11   \n",
      "\n",
      "   str_def_total_diff  td_def_total_diff  sub_avg_diff  td_avg_diff  \n",
      "0               -0.02               0.26           0.2         0.69  \n",
      "1                0.13               0.50           0.2         4.75  \n",
      "2               -0.01              -0.02           0.3         0.57  \n",
      "3                0.00               0.43          -0.2        -0.91  \n",
      "4               -0.22               0.01          -0.2        -1.04  \n",
      "\n",
      "[5 rows x 95 columns]\n",
      "\n",
      "\n",
      "\n",
      "Medium Set: \n",
      "                                   event       date                location  \\\n",
      "0  UFC Fight Night: Ribas vs. Namajunas  3/23/2024  Las Vegas, Nevada, USA   \n",
      "1  UFC Fight Night: Ribas vs. Namajunas  3/23/2024  Las Vegas, Nevada, USA   \n",
      "2  UFC Fight Night: Ribas vs. Namajunas  3/23/2024  Las Vegas, Nevada, USA   \n",
      "3  UFC Fight Night: Ribas vs. Namajunas  3/23/2024  Las Vegas, Nevada, USA   \n",
      "4  UFC Fight Night: Ribas vs. Namajunas  3/23/2024  Las Vegas, Nevada, USA   \n",
      "\n",
      "          r_fighter          b_fighter status  r_kd  b_kd  r_str  b_str  r_td  \\\n",
      "0    Rose Namajunas       Amanda Ribas    win   0.0   0.0   93.0   83.0   1.0   \n",
      "1     Karl Williams        Justin Tafa    win   0.0   0.0   40.0   21.0   7.0   \n",
      "2  Edmen Shahbazyan          AJ Dobson    win   1.0   0.0   27.0   15.0   1.0   \n",
      "3    Payton Talbott    Cameron Saaiman    win   1.0   0.0   79.0   31.0   0.0   \n",
      "4     Youssef Zalal  Billy Quarantillo    win   0.0   0.0   33.0   10.0   2.0   \n",
      "\n",
      "   b_td  r_sub  b_sub       weight_class  method   method_detailed  round  \\\n",
      "0   4.0    0.0    0.0  Women's Flyweight   U-DEC               NaN    5.0   \n",
      "1   0.0    1.0    0.0        Heavyweight   U-DEC               NaN    3.0   \n",
      "2   0.0    0.0    0.0       Middleweight  KO/TKO           Punches    1.0   \n",
      "3   0.0    0.0    0.0       Bantamweight  KO/TKO           Punches    2.0   \n",
      "4   0.0    2.0    0.0      Featherweight     SUB  Rear Naked Choke    2.0   \n",
      "\n",
      "   time  \n",
      "0  5:00  \n",
      "1  5:00  \n",
      "2  4:33  \n",
      "3  0:21  \n",
      "4  1:50  \n",
      "\n",
      "\n",
      "\n",
      "Completed Events: \n",
      "                                      event               date  \\\n",
      "0     UFC Fight Night: Ribas vs. Namajunas     March 23, 2024   \n",
      "1      UFC Fight Night: Tuivasa vs. Tybura     March 16, 2024   \n",
      "2             UFC 299: O'Malley vs. Vera 2     March 09, 2024   \n",
      "3  UFC Fight Night: Rozenstruik vs. Gaziev     March 02, 2024   \n",
      "4     UFC Fight Night: Moreno vs. Royval 2  February 24, 2024   \n",
      "\n",
      "                                location  \n",
      "0                 Las Vegas, Nevada, USA  \n",
      "1                 Las Vegas, Nevada, USA  \n",
      "2                    Miami, Florida, USA  \n",
      "3                 Las Vegas, Nevada, USA  \n",
      "4  Mexico City, Distrito Federal, Mexico  \n",
      "\n",
      "\n",
      "\n",
      "Upcoming Events: \n",
      "                                      event            date  \\\n",
      "0  UFC Fight Night: Blanchfield vs. Fiorot  March 30, 2024   \n",
      "1      UFC Fight Night: Allen vs. Curtis 2  April 06, 2024   \n",
      "2                UFC 300: Pereira vs. Hill  April 13, 2024   \n",
      "3      UFC Fight Night: Nicolau vs. Kape 2  April 27, 2024   \n",
      "4               UFC 301: Pantoja vs. Erceg    May 04, 2024   \n",
      "\n",
      "                                 location  \n",
      "0          Atlantic City, New Jersey, USA  \n",
      "1                  Las Vegas, Nevada, USA  \n",
      "2                  Las Vegas, Nevada, USA  \n",
      "3                  Las Vegas, Nevada, USA  \n",
      "4  Rio de Janeiro, Rio de Janeiro, Brazil  \n"
     ]
    }
   ],
   "source": [
    "# view the head of each dataframe and explore the size and  datatypes\n",
    "\n",
    "print('Fighter Stats: \\n', fighter_stats.head())\n",
    "print('\\n' * 2) # line for separation\n",
    "print('Large Set: \\n', large_set.head())\n",
    "print('\\n' * 2) # line for separation\n",
    "print('Medium Set: \\n', medium_set.head())\n",
    "print('\\n' * 2) # line for separation\n",
    "print('Completed Events: \\n', complete_events.head())\n",
    "print('\\n' * 2) # line for separation\n",
    "print('Upcoming Events: \\n', upcoming_events.head())"
   ]
  },
  {
   "cell_type": "markdown",
   "id": "95e8cd7f-a84e-4a37-80f5-0c40a7e52d8d",
   "metadata": {},
   "source": [
    "\n",
    "---\n",
    "\n",
    "*After looking over the data in all of these files, I will be focusing on the Large Set and Small Set - The Large Set contains fighter metrics as well as event names and outcomes, but does not include the date of the event or location. The Small Set contains event name, date and location for completed events in one file, and upcoming events in another file.*\n",
    "\n",
    "*By connecting the completed events data from the Small Set with the event and fighter data in the Large Set, I will be able to measure fighter improvements over time.*\n",
    "\n",
    "---\n"
   ]
  },
  {
   "cell_type": "markdown",
   "id": "cc761c16-845e-4b52-8d63-07eb8013a1cf",
   "metadata": {},
   "source": [
    "## Initial exploration of datasets - Large Set, Completed Events\n",
    "\n",
    "---\n",
    "\n",
    " *In this step, I want to understand the types and structure of the data. This is where I check for missing values, duplicate rows, and whether there are inconsistencies in formatting. All of these determine my next steps in cleaning / manipulating the dataframes.*"
   ]
  },
  {
   "cell_type": "code",
   "execution_count": 3,
   "id": "27fca90a-9726-403d-8f16-0f2ed15074b8",
   "metadata": {
    "scrolled": true
   },
   "outputs": [
    {
     "name": "stdout",
     "output_type": "stream",
     "text": [
      "Large Set Data Types: \n",
      " event_name             object\n",
      "r_fighter              object\n",
      "b_fighter              object\n",
      "winner                 object\n",
      "weight_class           object\n",
      "                       ...   \n",
      "td_acc_total_diff     float64\n",
      "str_def_total_diff    float64\n",
      "td_def_total_diff     float64\n",
      "sub_avg_diff          float64\n",
      "td_avg_diff           float64\n",
      "Length: 95, dtype: object\n"
     ]
    }
   ],
   "source": [
    "print('Large Set Data Types: \\n', large_set.dtypes)"
   ]
  },
  {
   "cell_type": "code",
   "execution_count": 4,
   "id": "dfc8633d-04e2-4a6d-b26e-b1bb500c7fcb",
   "metadata": {},
   "outputs": [
    {
     "name": "stdout",
     "output_type": "stream",
     "text": [
      "Completed Events Data Types: \n",
      " event       object\n",
      "date        object\n",
      "location    object\n",
      "dtype: object\n"
     ]
    }
   ],
   "source": [
    "print('Completed Events Data Types: \\n', complete_events.dtypes)"
   ]
  },
  {
   "cell_type": "markdown",
   "id": "0977c615-e2fb-4848-847b-0d710ca601d5",
   "metadata": {},
   "source": [
    "---\n",
    "\n",
    "*I may need to convert some columns to String - the event name, fighter names, winner and weight class columns for example. For now, I'll continue to explore the data.*\n",
    "\n",
    "---"
   ]
  },
  {
   "cell_type": "markdown",
   "id": "9cac13a2-9980-4ae5-8417-3248bea7a811",
   "metadata": {},
   "source": [
    "*Check for missing values, and duplicate rows*\n",
    "\n",
    "---"
   ]
  },
  {
   "cell_type": "code",
   "execution_count": 5,
   "id": "8967ffac-84bb-4852-a42b-d2c119f720d4",
   "metadata": {},
   "outputs": [
    {
     "name": "stdout",
     "output_type": "stream",
     "text": [
      "Missing values in Large Set: \n",
      " event_name            0\n",
      "r_fighter             0\n",
      "b_fighter             0\n",
      "winner                0\n",
      "weight_class          0\n",
      "                     ..\n",
      "td_acc_total_diff     0\n",
      "str_def_total_diff    0\n",
      "td_def_total_diff     0\n",
      "sub_avg_diff          0\n",
      "td_avg_diff           0\n",
      "Length: 95, dtype: int64\n"
     ]
    }
   ],
   "source": [
    "print('Missing values in Large Set: \\n', large_set.isnull().sum())"
   ]
  },
  {
   "cell_type": "code",
   "execution_count": 6,
   "id": "418ad805-e8ef-47ef-8448-839aab116c2e",
   "metadata": {},
   "outputs": [
    {
     "name": "stdout",
     "output_type": "stream",
     "text": [
      "Missing values in Completed Events: \n",
      " event       0\n",
      "date        0\n",
      "location    0\n",
      "dtype: int64\n"
     ]
    }
   ],
   "source": [
    "print('Missing values in Completed Events: \\n', complete_events.isnull().sum())"
   ]
  },
  {
   "cell_type": "code",
   "execution_count": 7,
   "id": "0e9e6b72-f475-478d-8a90-0256cfafee89",
   "metadata": {},
   "outputs": [
    {
     "name": "stdout",
     "output_type": "stream",
     "text": [
      "Duplicates found in Large Set: \n",
      " 0\n",
      "Duplicates found in Completed Events: \n",
      " 0\n"
     ]
    }
   ],
   "source": [
    "#  Check for duplicates \n",
    "print('Duplicates found in Large Set: \\n', large_set.duplicated().sum())\n",
    "print('Duplicates found in Completed Events: \\n', complete_events.duplicated().sum())"
   ]
  },
  {
   "cell_type": "markdown",
   "id": "7e976ba9-3ca1-4ce0-9f72-a2e7bf5891b2",
   "metadata": {},
   "source": [
    "---\n",
    "\n",
    "## Cleaning the data\n",
    "\n",
    "---"
   ]
  },
  {
   "cell_type": "markdown",
   "id": "4ec6b71f-25e7-496a-b99c-7fe1280e5777",
   "metadata": {},
   "source": [
    "The first thing I want to do here is to combine the completed events date and location data with the large set."
   ]
  },
  {
   "cell_type": "code",
   "execution_count": 8,
   "id": "df262d93-9f6a-4b2a-ab07-fa228bf0bafe",
   "metadata": {
    "scrolled": true
   },
   "outputs": [
    {
     "name": "stdout",
     "output_type": "stream",
     "text": [
      "                                  event            date  \\\n",
      "0  UFC Fight Night: Ribas vs. Namajunas  March 23, 2024   \n",
      "1  UFC Fight Night: Ribas vs. Namajunas  March 23, 2024   \n",
      "2  UFC Fight Night: Ribas vs. Namajunas  March 23, 2024   \n",
      "3  UFC Fight Night: Ribas vs. Namajunas  March 23, 2024   \n",
      "4  UFC Fight Night: Ribas vs. Namajunas  March 23, 2024   \n",
      "\n",
      "                 location                            event_name  \\\n",
      "0  Las Vegas, Nevada, USA  UFC Fight Night: Ribas vs. Namajunas   \n",
      "1  Las Vegas, Nevada, USA  UFC Fight Night: Ribas vs. Namajunas   \n",
      "2  Las Vegas, Nevada, USA  UFC Fight Night: Ribas vs. Namajunas   \n",
      "3  Las Vegas, Nevada, USA  UFC Fight Night: Ribas vs. Namajunas   \n",
      "4  Las Vegas, Nevada, USA  UFC Fight Night: Ribas vs. Namajunas   \n",
      "\n",
      "           r_fighter        b_fighter winner       weight_class  \\\n",
      "0       Amanda Ribas   Rose Namajunas   Blue  Women's Flyweight   \n",
      "1      Karl Williams      Justin Tafa    Red        Heavyweight   \n",
      "2   Edmen Shahbazyan        AJ Dobson    Red       Middleweight   \n",
      "3     Payton Talbott  Cameron Saaiman    Red       Bantamweight   \n",
      "4  Billy Quarantillo    Youssef Zalal   Blue      Featherweight   \n",
      "\n",
      "   is_title_bout gender  ... weight_diff  reach_diff  SLpM_total_diff  \\\n",
      "0              0  Women  ...        0.00        2.54             0.94   \n",
      "1              0    Men  ...      -13.16       12.70            -1.22   \n",
      "2              0    Men  ...        0.00       -2.54            -0.69   \n",
      "3              0    Men  ...        0.00        7.62             2.73   \n",
      "4              0    Men  ...        0.00       -5.08             4.48   \n",
      "\n",
      "   SApM_total_diff sig_str_acc_total_diff  td_acc_total_diff  \\\n",
      "0            -0.11                  -0.01               0.04   \n",
      "1            -3.32                  -0.02               0.50   \n",
      "2            -1.22                   0.06              -0.37   \n",
      "3            -0.60                   0.08              -0.28   \n",
      "4             3.84                   0.07              -0.11   \n",
      "\n",
      "   str_def_total_diff  td_def_total_diff  sub_avg_diff  td_avg_diff  \n",
      "0               -0.02               0.26           0.2         0.69  \n",
      "1                0.13               0.50           0.2         4.75  \n",
      "2               -0.01              -0.02           0.3         0.57  \n",
      "3                0.00               0.43          -0.2        -0.91  \n",
      "4               -0.22               0.01          -0.2        -1.04  \n",
      "\n",
      "[5 rows x 98 columns]\n"
     ]
    }
   ],
   "source": [
    "# use pd.merge to combine the completed events date and location data with the large set - using event_name as the common key.\n",
    "\n",
    "events_fighters = pd.merge(complete_events, large_set, left_on='event', right_on='event_name', how='inner')\n",
    "\n",
    "# check the new dataframe to ensure the merge is correct: \n",
    "print(events_fighters.head())"
   ]
  },
  {
   "cell_type": "markdown",
   "id": "1bbe169d-aee5-4feb-9403-8df1c796dabe",
   "metadata": {},
   "source": [
    "*Now that the files have been merged, we have 2 columns that contain the same data - 'event' and 'event_name'. So let's drop the 'event' column.*"
   ]
  },
  {
   "cell_type": "code",
   "execution_count": 9,
   "id": "d4d5b538-e46c-4e9c-b1fa-fca47b1f3b0d",
   "metadata": {
    "scrolled": true
   },
   "outputs": [
    {
     "name": "stdout",
     "output_type": "stream",
     "text": [
      "             date                location  \\\n",
      "0  March 23, 2024  Las Vegas, Nevada, USA   \n",
      "1  March 23, 2024  Las Vegas, Nevada, USA   \n",
      "2  March 23, 2024  Las Vegas, Nevada, USA   \n",
      "3  March 23, 2024  Las Vegas, Nevada, USA   \n",
      "4  March 23, 2024  Las Vegas, Nevada, USA   \n",
      "\n",
      "                             event_name          r_fighter        b_fighter  \\\n",
      "0  UFC Fight Night: Ribas vs. Namajunas       Amanda Ribas   Rose Namajunas   \n",
      "1  UFC Fight Night: Ribas vs. Namajunas      Karl Williams      Justin Tafa   \n",
      "2  UFC Fight Night: Ribas vs. Namajunas   Edmen Shahbazyan        AJ Dobson   \n",
      "3  UFC Fight Night: Ribas vs. Namajunas     Payton Talbott  Cameron Saaiman   \n",
      "4  UFC Fight Night: Ribas vs. Namajunas  Billy Quarantillo    Youssef Zalal   \n",
      "\n",
      "  winner       weight_class  is_title_bout gender                method  ...  \\\n",
      "0   Blue  Women's Flyweight              0  Women  Decision - Unanimous  ...   \n",
      "1    Red        Heavyweight              0    Men  Decision - Unanimous  ...   \n",
      "2    Red       Middleweight              0    Men                KO/TKO  ...   \n",
      "3    Red       Bantamweight              0    Men                KO/TKO  ...   \n",
      "4   Blue      Featherweight              0    Men            Submission  ...   \n",
      "\n",
      "   weight_diff  reach_diff  SLpM_total_diff SApM_total_diff  \\\n",
      "0         0.00        2.54             0.94           -0.11   \n",
      "1       -13.16       12.70            -1.22           -3.32   \n",
      "2         0.00       -2.54            -0.69           -1.22   \n",
      "3         0.00        7.62             2.73           -0.60   \n",
      "4         0.00       -5.08             4.48            3.84   \n",
      "\n",
      "   sig_str_acc_total_diff  td_acc_total_diff  str_def_total_diff  \\\n",
      "0                   -0.01               0.04               -0.02   \n",
      "1                   -0.02               0.50                0.13   \n",
      "2                    0.06              -0.37               -0.01   \n",
      "3                    0.08              -0.28                0.00   \n",
      "4                    0.07              -0.11               -0.22   \n",
      "\n",
      "   td_def_total_diff  sub_avg_diff  td_avg_diff  \n",
      "0               0.26           0.2         0.69  \n",
      "1               0.50           0.2         4.75  \n",
      "2              -0.02           0.3         0.57  \n",
      "3               0.43          -0.2        -0.91  \n",
      "4               0.01          -0.2        -1.04  \n",
      "\n",
      "[5 rows x 97 columns]\n"
     ]
    }
   ],
   "source": [
    "#  Drop the 'event' column from the merged table - 'event_name' is more clear, and contains the same data. \n",
    "events_fighters = events_fighters.drop('event', axis = 1)\n",
    "print(events_fighters.head())"
   ]
  },
  {
   "cell_type": "markdown",
   "id": "f25a4cb4-de70-4719-baeb-3ddc0e801900",
   "metadata": {},
   "source": [
    "---\n",
    "\n",
    "## Business Qustions\n",
    "\n",
    "*In this section, I format and join the data as needed to be able to answer the business questions I have outlined at the start of this project. Each question has it's own section, to be easy to follow along.*\n",
    "\n",
    "---"
   ]
  },
  {
   "cell_type": "markdown",
   "id": "35766d86-e781-431c-83df-eeb1d1c43fe0",
   "metadata": {},
   "source": [
    "1. Which fighters show consistent improvement over time?\n",
    "\n",
    "\n",
    "\n",
    "\n"
   ]
  },
  {
   "cell_type": "markdown",
   "id": "2925bb1d-e4bc-43a7-8989-9117a8109b2e",
   "metadata": {},
   "source": [
    "2. Which weight classes have the most competitive fights?"
   ]
  },
  {
   "cell_type": "markdown",
   "id": "88b02c17-e69a-4cdb-a31d-78032cd92623",
   "metadata": {},
   "source": [
    "3. Are there any emerging trends in fighter metrics that could affect the evolution of the sport?"
   ]
  },
  {
   "cell_type": "markdown",
   "id": "421342a4-e11b-4dfe-b290-76f4d8b89996",
   "metadata": {},
   "source": [
    "4. Which fight outcomes are most common, and how do they vary by weight class?"
   ]
  },
  {
   "cell_type": "code",
   "execution_count": 12,
   "id": "e7d599a2-9f92-4b0a-8688-33badd6861e7",
   "metadata": {
    "scrolled": true
   },
   "outputs": [
    {
     "name": "stdout",
     "output_type": "stream",
     "text": [
      "                                          weight_class                method  \\\n",
      "41                                         Lightweight  Decision - Unanimous   \n",
      "207                                       Welterweight  Decision - Unanimous   \n",
      "208                                       Welterweight                KO/TKO   \n",
      "42                                         Lightweight                KO/TKO   \n",
      "49                                        Middleweight                KO/TKO   \n",
      "..                                                 ...                   ...   \n",
      "157  Ultimate Fighter 17 Middleweight Tournament Title      Decision - Split   \n",
      "156  Ultimate Fighter 16 Welterweight Tournament Title  Decision - Unanimous   \n",
      "155   Ultimate Fighter 15 Lightweight Tournament Title            Submission   \n",
      "154  Ultimate Fighter 14 Featherweight Tournament T...            Submission   \n",
      "166  Ultimate Fighter 23 Light Heavyweight Tourname...  Decision - Unanimous   \n",
      "\n",
      "     count  \n",
      "41     452  \n",
      "207    436  \n",
      "208    377  \n",
      "42     352  \n",
      "49     341  \n",
      "..     ...  \n",
      "157      1  \n",
      "156      1  \n",
      "155      1  \n",
      "154      1  \n",
      "166      1  \n",
      "\n",
      "[233 rows x 3 columns]\n"
     ]
    }
   ],
   "source": [
    "# First step - group the data by method (outcome) and weight_class\n",
    "\n",
    "outcome_by_weight_class = events_fighters.groupby(['weight_class', 'method']).size().reset_index(name='count')\n",
    "\n",
    "# Sort by the count to get a quick understanding of the most common outcomes by weight class\n",
    "\n",
    "outcome_by_weight_class = outcome_by_weight_class.sort_values(by='count', ascending=False)\n",
    "\n",
    "# View the dataset - check my work\n",
    "print(outcome_by_weight_class)"
   ]
  },
  {
   "cell_type": "markdown",
   "id": "278ae8f0-f864-4c2f-bdb1-4bac71bbcc95",
   "metadata": {},
   "source": [
    "---\n",
    "\n",
    "*Hm. Looks like the weight class column is not as clean as it appeared to be - Let's dig deeper by grabbing all the unique weight class values:*"
   ]
  },
  {
   "cell_type": "code",
   "execution_count": 25,
   "id": "dc9483d9-4e74-4505-a36b-32cf6707bd56",
   "metadata": {
    "scrolled": true
   },
   "outputs": [
    {
     "name": "stdout",
     "output_type": "stream",
     "text": [
      "['Lightweight' 'Welterweight' 'Middleweight' 'Heavyweight' 'Featherweight'\n",
      " 'Light Heavyweight' 'Bantamweight' \"Women's Strawweight\" 'Flyweight'\n",
      " \"Women's Flyweight\" \"Women's Bantamweight\" 'Open Weight' 'Catch Weight'\n",
      " 'UFC Heavyweight Title' 'UFC Light Heavyweight Title'\n",
      " 'UFC Middleweight Title' 'UFC Welterweight Title' 'UFC Lightweight Title'\n",
      " 'UFC Bantamweight Title' 'UFC Featherweight Title'\n",
      " \"Women's Featherweight\" 'UFC Flyweight Title'\n",
      " \"UFC Women's Bantamweight Title\" \"UFC Women's Strawweight Title\"\n",
      " 'UFC Interim Heavyweight Title' \"UFC Women's Flyweight Title\"\n",
      " \"UFC Women's Featherweight Title\" 'UFC Interim Bantamweight Title'\n",
      " 'UFC Superfight Championship' 'UFC Interim Featherweight Title'\n",
      " 'UFC Interim Welterweight Title' 'UFC Interim Middleweight Title'\n",
      " 'Ultimate Fighter Latin America Bantamweight Tournament Title'\n",
      " 'Ultimate Fighter Latin America 3 Lightweight Tournament Title'\n",
      " 'Ultimate Fighter Brazil 4 Lightweight Tournament Title'\n",
      " 'Ultimate Fighter Latin America Featherweight Tournament Title'\n",
      " 'Ultimate Fighter Latin America 2 Lightweight Tournament Title'\n",
      " 'Ultimate Japan 2 Heavyweight Tournament Title'\n",
      " 'Ultimate Japan Heavyweight Tournament Title'\n",
      " \"Ultimate Ultimate '95 Tournament Title\"\n",
      " 'Ultimate Fighter China Welterweight Tournament Title'\n",
      " 'Ultimate Fighter China Featherweight Tournament Title'\n",
      " 'Ultimate Fighter Latin America 2 Welterweight Tournament Title'\n",
      " 'Ultimate Fighter Brazil 4 Bantamweight Tournament Title'\n",
      " 'UFC 4 Tournament Title'\n",
      " 'Ultimate Fighter Brazil 3 Middleweight Tournament Title'\n",
      " 'Ultimate Fighter Brazil 3 Heavyweight Tournament Title'\n",
      " 'Ultimate Fighter Brazil 2 Welterweight Tournament Title'\n",
      " 'Ultimate Fighter Brazil 1 Middleweight Tournament Title'\n",
      " 'Ultimate Fighter Brazil 1 Featherweight Tournament Title'\n",
      " 'Ultimate Fighter Australia vs. UK Welterweight Tournament Title'\n",
      " 'Ultimate Fighter Australia vs. UK Lightweight Tournament Title'\n",
      " 'Ultimate Fighter 9 Welterweight Tournament Title'\n",
      " 'Ultimate Fighter 9 Lightweight Tournament Title'\n",
      " 'Ultimate Fighter 8 Lightweight Tournament Title'\n",
      " \"Ultimate Ultimate '96 Tournament Title\"\n",
      " 'UFC 15 Heavyweight Tournament Title' 'UFC 3 Tournament Title'\n",
      " 'Super Heavyweight' 'UFC Interim Light Heavyweight Title'\n",
      " 'UFC Interim Lightweight Title'\n",
      " 'TUF Nations Canada vs. Australia Middleweight Tournament Title'\n",
      " 'UFC 2 Tournament Title'\n",
      " 'TUF Nations Canada vs. Australia Welterweight Tournament Title'\n",
      " 'UFC 10 Tournament Title' 'UFC 13 Heavyweight Tournament Title'\n",
      " 'UFC 13 Lightweight Tournament Title' 'UFC Interim Flyweight Title'\n",
      " 'UFC 14 Heavyweight Tournament Title'\n",
      " 'UFC 14 Middleweight Tournament Title'\n",
      " 'Ultimate Fighter 7 Middleweight Tournament Title'\n",
      " 'UFC 17 Middleweight Tournament Title'\n",
      " 'Ultimate Fighter 8 Light Heavyweight Tournament Title'\n",
      " 'Ultimate Fighter 5 Lightweight Tournament Title'\n",
      " 'Ultimate Fighter 6 Welterweight Tournament Title'\n",
      " 'Ultimate Fighter 10 Heavyweight Tournament Title'\n",
      " 'Ultimate Fighter 1 Middleweight Tournament Title'\n",
      " 'Ultimate Fighter 1 Light Heavyweight Tournament Title'\n",
      " 'UFC 5 Tournament Title' 'UFC 6 Tournament Title'\n",
      " 'UFC 7 Tournament Title' 'UFC 8 Tournament Title'\n",
      " 'Ultimate Fighter 11 Middleweight Tournament Title'\n",
      " 'Ultimate Fighter 12 Lightweight Tournament Title'\n",
      " 'Ultimate Fighter 13 Welterweight Tournament Title'\n",
      " 'Ultimate Fighter 14 Bantamweight Tournament Title'\n",
      " 'Ultimate Fighter 4 Welterweight Tournament Title'\n",
      " 'Ultimate Fighter 4 Middleweight Tournament Title'\n",
      " 'Ultimate Fighter 3 Middleweight Tournament Title'\n",
      " 'Ultimate Fighter 3 Light Heavyweight Tournament Title'\n",
      " \"Ultimate Fighter 28 Women's Featherweight Tournament Title\"\n",
      " 'Ultimate Fighter 28 Heavyweight Tournament Title'\n",
      " 'Ultimate Fighter 27 Lightweight Tournament Title'\n",
      " 'Ultimate Fighter 27 Featherweight Tournament Title'\n",
      " 'Ultimate Fighter 25 Welterweight Tournament Title'\n",
      " \"Ultimate Fighter 23 Women's Strawweight Tournament Title\"\n",
      " 'Ultimate Fighter 22 Lightweight Tournament Title'\n",
      " 'Ultimate Fighter 21 Welterweight Tournament Title'\n",
      " 'Ultimate Fighter 2 Welterweight Tournament Title'\n",
      " 'Ultimate Fighter 2 Heavyweight Tournament Title'\n",
      " 'Ultimate Fighter 19 Middleweight Tournament Title'\n",
      " 'Ultimate Fighter 19 Light Heavyweight Tournament Title'\n",
      " \"Ultimate Fighter 18 Women's Bantamweight Tournament Title\"\n",
      " 'Ultimate Fighter 18 Bantamweight Tournament Title'\n",
      " 'Ultimate Fighter 17 Middleweight Tournament Title'\n",
      " 'Ultimate Fighter 16 Welterweight Tournament Title'\n",
      " 'Ultimate Fighter 15 Lightweight Tournament Title'\n",
      " 'Ultimate Fighter 14 Featherweight Tournament Title'\n",
      " 'Ultimate Fighter 23 Light Heavyweight Tournament Title']\n"
     ]
    }
   ],
   "source": [
    "print(outcome_by_weight_class['weight_class'].unique())"
   ]
  },
  {
   "cell_type": "markdown",
   "id": "5fd8e422-8b10-4009-b4e0-da895e17f30c",
   "metadata": {},
   "source": [
    "*Ok! There's some formatting to fix here, after we ensure that the title fights are marked correctly in another column - there is one already called 'is_title_bout' - so let's cross reference that with all the weight class values that contain 'Title':*"
   ]
  },
  {
   "cell_type": "code",
   "execution_count": 26,
   "id": "e96e8c50-4f34-4ab1-9c84-a809828be075",
   "metadata": {
    "scrolled": true
   },
   "outputs": [
    {
     "name": "stdout",
     "output_type": "stream",
     "text": [
      "Empty DataFrame\n",
      "Columns: [date, location, event_name, r_fighter, b_fighter, winner, weight_class, is_title_bout, gender, method, finish_round, total_rounds, time_sec, referee, r_kd, r_sig_str, r_sig_str_att, r_sig_str_acc, r_str, r_str_att, r_str_acc, r_td, r_td_att, r_td_acc, r_sub_att, r_rev, r_ctrl_sec, r_wins_total, r_losses_total, r_age, r_height, r_weight, r_reach, r_stance, r_SLpM_total, r_SApM_total, r_sig_str_acc_total, r_td_acc_total, r_str_def_total, r_td_def_total, r_sub_avg, r_td_avg, b_kd, b_sig_str, b_sig_str_att, b_sig_str_acc, b_str, b_str_att, b_str_acc, b_td, b_td_att, b_td_acc, b_sub_att, b_rev, b_ctrl_sec, b_wins_total, b_losses_total, b_age, b_height, b_weight, b_reach, b_stance, b_SLpM_total, b_SApM_total, b_sig_str_acc_total, b_td_acc_total, b_str_def_total, b_td_def_total, b_sub_avg, b_td_avg, kd_diff, sig_str_diff, sig_str_att_diff, sig_str_acc_diff, str_diff, str_att_diff, str_acc_diff, td_diff, td_att_diff, td_acc_diff, sub_att_diff, rev_diff, ctrl_sec_diff, wins_total_diff, losses_total_diff, age_diff, height_diff, weight_diff, reach_diff, SLpM_total_diff, SApM_total_diff, sig_str_acc_total_diff, td_acc_total_diff, str_def_total_diff, td_def_total_diff, sub_avg_diff, td_avg_diff]\n",
      "Index: []\n",
      "\n",
      "[0 rows x 97 columns]\n"
     ]
    }
   ],
   "source": [
    "# Find rows where 'Title' appears in weight_class but is_title_bout is 0 (meaning, not marked as a title fight)\n",
    "\n",
    "unmarked_title_fights = events_fighters[(events_fighters['weight_class'].str.contains('(?i)Title')) & (events_fighters['is_title_bout'] == 0)]\n",
    "print(unmarked_title_fights.head())"
   ]
  },
  {
   "cell_type": "markdown",
   "id": "ade34bbe-65ac-4f74-acd2-01feae9cb710",
   "metadata": {},
   "source": [
    "*Since the new datframe is empty, it's safe to say that the title fights are marked correctly in the 'is_title_bout' column.*\n",
    "\n",
    "*Now, let's format the weight_class column:*"
   ]
  },
  {
   "cell_type": "code",
   "execution_count": 27,
   "id": "64a2471c-f5b3-4a4d-b8ca-a95db8e266fe",
   "metadata": {
    "scrolled": true
   },
   "outputs": [
    {
     "name": "stdout",
     "output_type": "stream",
     "text": [
      "[\"Women's Flyweight\" 'Heavyweight' 'Middleweight' 'Bantamweight'\n",
      " 'Featherweight' 'Lightweight' \"Women's Bantamweight\" 'Flyweight'\n",
      " 'Light Heavyweight' \"Women's Strawweight\" 'Welterweight'\n",
      " 'Interim Heavyweight' 'Catch Weight' \"Women's Featherweight\"\n",
      " 'Interim Featherweight' 'Interim Flyweight' 'Interim Bantamweight'\n",
      " 'Interim Lightweight' 'Interim Middleweight'\n",
      " 'Ultimate Fighter 28 Heavyweight Tournament'\n",
      " \"Ultimate Fighter 28 Women's Featherweight Tournament\"\n",
      " 'Ultimate Fighter 27 Lightweight Tournament'\n",
      " 'Ultimate Fighter 27 Featherweight Tournament' 'Interim Welterweight'\n",
      " 'Ultimate Fighter 25 Welterweight Tournament'\n",
      " 'Ultimate Fighter Latin America 3 Lightweight Tournament'\n",
      " 'Ultimate Fighter 23 Light Heavyweight Tournament'\n",
      " \"Ultimate Fighter 23 Women's Strawweight Tournament\"\n",
      " 'Interim Light Heavyweight' 'Ultimate Fighter 22 Lightweight Tournament'\n",
      " 'Ultimate Fighter Latin America 2 Welterweight Tournament'\n",
      " 'Ultimate Fighter Latin America 2 Lightweight Tournament'\n",
      " 'Ultimate Fighter Brazil 4 Lightweight Tournament'\n",
      " 'Ultimate Fighter Brazil 4 Bantamweight Tournament'\n",
      " 'Ultimate Fighter 21 Welterweight Tournament'\n",
      " 'Ultimate Fighter Latin America Featherweight Tournament'\n",
      " 'Ultimate Fighter Latin America Bantamweight Tournament'\n",
      " 'Ultimate Fighter China Featherweight Tournament'\n",
      " 'Ultimate Fighter 19 Light Heavyweight Tournament'\n",
      " 'Ultimate Fighter 19 Middleweight Tournament'\n",
      " 'Ultimate Fighter Brazil 3 Heavyweight Tournament'\n",
      " 'Ultimate Fighter Brazil 3 Middleweight Tournament'\n",
      " 'TUF Nations Canada vs. Australia Middleweight Tournament'\n",
      " 'TUF Nations Canada vs. Australia Welterweight Tournament'\n",
      " 'Ultimate Fighter China Welterweight Tournament'\n",
      " \"Ultimate Fighter 18 Women's Bantamweight Tournament\"\n",
      " 'Ultimate Fighter 18 Bantamweight Tournament'\n",
      " 'Ultimate Fighter Brazil 2 Welterweight Tournament'\n",
      " 'Ultimate Fighter 17 Middleweight Tournament'\n",
      " 'Ultimate Fighter 16 Welterweight Tournament'\n",
      " 'Ultimate Fighter Australia vs. UK Welterweight Tournament'\n",
      " 'Ultimate Fighter Australia vs. UK Lightweight Tournament'\n",
      " 'Ultimate Fighter Brazil 1 Middleweight Tournament'\n",
      " 'Ultimate Fighter Brazil 1 Featherweight Tournament'\n",
      " 'Ultimate Fighter 15 Lightweight Tournament'\n",
      " 'Ultimate Fighter 14 Featherweight Tournament'\n",
      " 'Ultimate Fighter 14 Bantamweight Tournament'\n",
      " 'Ultimate Fighter 13 Welterweight Tournament'\n",
      " 'Ultimate Fighter 12 Lightweight Tournament'\n",
      " 'Ultimate Fighter 11 Middleweight Tournament'\n",
      " 'Ultimate Fighter 10 Heavyweight Tournament'\n",
      " 'Ultimate Fighter 9 Welterweight Tournament'\n",
      " 'Ultimate Fighter 9 Lightweight Tournament'\n",
      " 'Ultimate Fighter 8 Lightweight Tournament'\n",
      " 'Ultimate Fighter 8 Light Heavyweight Tournament'\n",
      " 'Ultimate Fighter 7 Middleweight Tournament'\n",
      " 'Ultimate Fighter 6 Welterweight Tournament'\n",
      " 'Ultimate Fighter 5 Lightweight Tournament'\n",
      " 'Ultimate Fighter 4 Welterweight Tournament'\n",
      " 'Ultimate Fighter 4 Middleweight Tournament'\n",
      " 'Ultimate Fighter 3 Light Heavyweight Tournament'\n",
      " 'Ultimate Fighter 3 Middleweight Tournament'\n",
      " 'Ultimate Fighter 2 Heavyweight Tournament'\n",
      " 'Ultimate Fighter 2 Welterweight Tournament'\n",
      " 'Ultimate Fighter 1 Light Heavyweight Tournament'\n",
      " 'Ultimate Fighter 1 Middleweight Tournament' 'Super Heavyweight'\n",
      " 'Ultimate Japan 2 Heavyweight Tournament' 'Open Weight'\n",
      " '17 Middleweight Tournament' 'Ultimate Japan Heavyweight Tournament'\n",
      " '15 Heavyweight Tournament' '14 Heavyweight Tournament'\n",
      " '14 Middleweight Tournament' '13 Heavyweight Tournament'\n",
      " '13 Lightweight Tournament' \"Ultimate Ultimate '96 Tournament\"\n",
      " '10 Tournament' 'Superfight Championship' '8 Tournament'\n",
      " \"Ultimate Ultimate '95 Tournament\" '7 Tournament' '6 Tournament'\n",
      " '5 Tournament' '4 Tournament' '3 Tournament' '2 Tournament']\n"
     ]
    }
   ],
   "source": [
    "# Remove 'UFC ' and ' Title' from weight_class values\n",
    "events_fighters['weight_class'] = events_fighters['weight_class'].str.replace('UFC ', '').str.replace(' Title', '')\n",
    "\n",
    "# check my work\n",
    "print(events_fighters['weight_class'].unique())"
   ]
  },
  {
   "cell_type": "markdown",
   "id": "d6b92420-4ced-47a9-a552-b47ea4994cf1",
   "metadata": {},
   "source": [
    "---\n",
    "\n",
    "*Now that the weight classes have been cleaned, we can revisit our work earlier - starting with the outcome by weight class variable:*"
   ]
  },
  {
   "cell_type": "code",
   "execution_count": 30,
   "id": "d547e53a-6cd2-44d9-81ad-e4ac183388bc",
   "metadata": {},
   "outputs": [
    {
     "name": "stdout",
     "output_type": "stream",
     "text": [
      "                                          weight_class                method  \\\n",
      "73                                         Lightweight  Decision - Unanimous   \n",
      "153                                       Welterweight  Decision - Unanimous   \n",
      "154                                       Welterweight                KO/TKO   \n",
      "81                                        Middleweight                KO/TKO   \n",
      "74                                         Lightweight                KO/TKO   \n",
      "..                                                 ...                   ...   \n",
      "94          Ultimate Fighter 1 Middleweight Tournament                KO/TKO   \n",
      "93     Ultimate Fighter 1 Light Heavyweight Tournament  Decision - Unanimous   \n",
      "92   TUF Nations Canada vs. Australia Welterweight ...      Decision - Split   \n",
      "91   TUF Nations Canada vs. Australia Middleweight ...                KO/TKO   \n",
      "89                             Superfight Championship      Decision - Split   \n",
      "\n",
      "     count  \n",
      "73     463  \n",
      "153    451  \n",
      "154    391  \n",
      "81     360  \n",
      "74     359  \n",
      "..     ...  \n",
      "94       1  \n",
      "93       1  \n",
      "92       1  \n",
      "91       1  \n",
      "89       1  \n",
      "\n",
      "[179 rows x 3 columns]\n"
     ]
    }
   ],
   "source": [
    "# Copied this from earlier, now that the weight classes are formatted:\n",
    "outcome_by_weight_class = events_fighters.groupby(['weight_class', 'method']).size().reset_index(name='count')\n",
    "\n",
    "# Sort by the count to get a quick understanding of the most common outcomes by weight class\n",
    "\n",
    "outcome_by_weight_class = outcome_by_weight_class.sort_values(by='count', ascending=False)\n",
    "\n",
    "print(outcome_by_weight_class)"
   ]
  },
  {
   "cell_type": "markdown",
   "id": "3af0e9c1-b57c-4e61-92af-40903833473f",
   "metadata": {},
   "source": [
    "*Now that we have our cleaned data, let's try out a visualization using python's matplotlib.*"
   ]
  },
  {
   "cell_type": "code",
   "execution_count": null,
   "id": "43a08a17-825a-4074-99e6-2e2812e2b61c",
   "metadata": {},
   "outputs": [],
   "source": []
  }
 ],
 "metadata": {
  "kernelspec": {
   "display_name": "Python 3 (ipykernel)",
   "language": "python",
   "name": "python3"
  },
  "language_info": {
   "codemirror_mode": {
    "name": "ipython",
    "version": 3
   },
   "file_extension": ".py",
   "mimetype": "text/x-python",
   "name": "python",
   "nbconvert_exporter": "python",
   "pygments_lexer": "ipython3",
   "version": "3.11.1"
  }
 },
 "nbformat": 4,
 "nbformat_minor": 5
}
